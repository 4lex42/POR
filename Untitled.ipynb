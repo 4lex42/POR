{
 "cells": [
  {
   "cell_type": "code",
   "execution_count": 3,
   "id": "c0b1c4e4-95b5-4aec-8c27-d0c77314e1e2",
   "metadata": {},
   "outputs": [],
   "source": [
    "import pandas as pd"
   ]
  },
  {
   "cell_type": "code",
   "execution_count": 4,
   "id": "b1187d90-3666-477c-8455-02ca364626ee",
   "metadata": {},
   "outputs": [],
   "source": [
    "dataframe1 = pd.read_csv(\"assets/Test Your Awareness eyes data.txt\") \n",
    "  \n",
    "dataframe1.to_csv('DataPOR.csv', index = None)"
   ]
  },
  {
   "cell_type": "code",
   "execution_count": 11,
   "id": "e0ba8f25-c1e1-49d7-8f20-597f85d8fe22",
   "metadata": {},
   "outputs": [
    {
     "name": "stdout",
     "output_type": "stream",
     "text": [
      "      Time\\tType\\tTrial\\tL Raw X [px]\\tL Raw Y [px]\\tR Raw X [px]\\tR Raw Y [px]\\tL Dia X [px]\\tL Dia Y [px]\\tL Pupil Diameter [mm]\\tR Dia X [px]\\tR Dia Y [px]\\tR Pupil Diameter [mm]\\tL CR1 X [px]\\tL CR1 Y [px]\\tL CR2 X [px]\\tL CR2 Y [px]\\tR CR1 X [px]\\tR CR1 Y [px]\\tR CR2 X [px]\\tR CR2 Y [px]\\tL POR X [px]\\tL POR Y [px]\\tR POR X [px]\\tR POR Y [px]\\tL AOI Hit\\tR AOI Hit\\tL EPOS X\\tL EPOS Y\\tL EPOS Z\\tR EPOS X\\tR EPOS Y\\tR EPOS Z\\tL GVEC X\\tL GVEC Y\\tL GVEC Z\\tR GVEC X\\tR GVEC Y\\tR GVEC Z\\tFrame\\tAux1\\tL Event Info\\tR Event Info\\tStimulus\n",
      "0      285680225\\tMSG\\t1\\t# Message: Test Your Awaren...                                                                                                                                                                                                                                                                                                                                                                                                                                                                                                      \n",
      "1      285680682\\tSMP\\t1\\t514.0287\\t450.6773\\t761.844...                                                                                                                                                                                                                                                                                                                                                                                                                                                                                                      \n",
      "2      285682677\\tSMP\\t1\\t514.1010\\t450.7904\\t761.830...                                                                                                                                                                                                                                                                                                                                                                                                                                                                                                      \n",
      "3      285684677\\tSMP\\t1\\t513.8744\\t450.8948\\t761.978...                                                                                                                                                                                                                                                                                                                                                                                                                                                                                                      \n",
      "4      285686721\\tSMP\\t1\\t513.9620\\t450.8803\\t761.972...                                                                                                                                                                                                                                                                                                                                                                                                                                                                                                      \n",
      "...                                                  ...                                                                                                                                                                                                                                                                                                                                                                                                                                                                                                      \n",
      "33973  353682795\\tSMP\\t1\\t0.0000\\t0.0000\\t0.0000\\t0.0...                                                                                                                                                                                                                                                                                                                                                                                                                                                                                                      \n",
      "33974  353684802\\tSMP\\t1\\t0.0000\\t0.0000\\t764.5248\\t4...                                                                                                                                                                                                                                                                                                                                                                                                                                                                                                      \n",
      "33975  353686795\\tSMP\\t1\\t0.0000\\t0.0000\\t0.0000\\t0.0...                                                                                                                                                                                                                                                                                                                                                                                                                                                                                                      \n",
      "33976  353688793\\tSMP\\t1\\t518.0389\\t440.6532\\t764.339...                                                                                                                                                                                                                                                                                                                                                                                                                                                                                                      \n",
      "33977  353690793\\tSMP\\t1\\t0.0000\\t0.0000\\t767.5329\\t4...                                                                                                                                                                                                                                                                                                                                                                                                                                                                                                      \n",
      "\n",
      "[33978 rows x 1 columns]\n"
     ]
    }
   ],
   "source": [
    "df = dataframe1 = pd.read_csv(\"assets/DataPOR.csv\")\n",
    "print(df)"
   ]
  },
  {
   "cell_type": "code",
   "execution_count": 5,
   "id": "95c86d42-e315-4b87-b00c-e4e8c690c823",
   "metadata": {},
   "outputs": [
    {
     "ename": "NameError",
     "evalue": "name 'df' is not defined",
     "output_type": "error",
     "traceback": [
      "\u001b[1;31m---------------------------------------------------------------------------\u001b[0m",
      "\u001b[1;31mNameError\u001b[0m                                 Traceback (most recent call last)",
      "Cell \u001b[1;32mIn[5], line 1\u001b[0m\n\u001b[1;32m----> 1\u001b[0m \u001b[38;5;28mprint\u001b[39m(\u001b[43mdf\u001b[49m)\n",
      "\u001b[1;31mNameError\u001b[0m: name 'df' is not defined"
     ]
    }
   ],
   "source": []
  }
 ],
 "metadata": {
  "kernelspec": {
   "display_name": "Python 3 (ipykernel)",
   "language": "python",
   "name": "python3"
  },
  "language_info": {
   "codemirror_mode": {
    "name": "ipython",
    "version": 3
   },
   "file_extension": ".py",
   "mimetype": "text/x-python",
   "name": "python",
   "nbconvert_exporter": "python",
   "pygments_lexer": "ipython3",
   "version": "3.12.0"
  }
 },
 "nbformat": 4,
 "nbformat_minor": 5
}
