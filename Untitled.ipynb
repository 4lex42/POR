{
 "cells": [
  {
   "cell_type": "code",
   "execution_count": 3,
   "id": "c0b1c4e4-95b5-4aec-8c27-d0c77314e1e2",
   "metadata": {},
   "outputs": [],
   "source": [
    "import pandas as pd"
   ]
  },
  {
   "cell_type": "code",
   "execution_count": 4,
   "id": "b1187d90-3666-477c-8455-02ca364626ee",
   "metadata": {},
   "outputs": [],
   "source": [
    "dataframe1 = pd.read_csv(\"assets/Test Your Awareness eyes data.txt\") \n",
    "  \n",
    "dataframe1.to_csv('DataPOR.csv', index = None)"
   ]
  },
  {
   "cell_type": "code",
   "execution_count": 10,
   "id": "e0ba8f25-c1e1-49d7-8f20-597f85d8fe22",
   "metadata": {},
   "outputs": [
    {
     "name": "stdout",
     "output_type": "stream",
     "text": [
      "            Time Type  Trial                        L Raw X [px]  \\\n",
      "0      285680225  MSG      1  # Message: Test Your Awareness.avi   \n",
      "1      285680682  SMP      1                            514.0287   \n",
      "2      285682677  SMP      1                            514.1010   \n",
      "3      285684677  SMP      1                            513.8744   \n",
      "4      285686721  SMP      1                            513.9620   \n",
      "...          ...  ...    ...                                 ...   \n",
      "33973  353682795  SMP      1                                 0.0   \n",
      "33974  353684802  SMP      1                                 0.0   \n",
      "33975  353686795  SMP      1                                 0.0   \n",
      "33976  353688793  SMP      1                            518.0389   \n",
      "33977  353690793  SMP      1                                 0.0   \n",
      "\n",
      "       L Raw Y [px]  R Raw X [px]  R Raw Y [px]  L Dia X [px]  L Dia Y [px]  \\\n",
      "0               NaN           NaN           NaN           NaN           NaN   \n",
      "1          450.6773      761.8440      453.9001       20.7059       20.7059   \n",
      "2          450.7904      761.8300      453.9812       20.7227       20.7227   \n",
      "3          450.8948      761.9781      454.1233       20.9991       20.9991   \n",
      "4          450.8803      761.9727      453.9885       20.5451       20.5451   \n",
      "...             ...           ...           ...           ...           ...   \n",
      "33973        0.0000        0.0000        0.0000        0.0000        0.0000   \n",
      "33974        0.0000      764.5248      450.0750        0.0000        0.0000   \n",
      "33975        0.0000        0.0000        0.0000        0.0000        0.0000   \n",
      "33976      440.6532      764.3399      450.0998       25.5532       25.5532   \n",
      "33977        0.0000      767.5329      448.9686        0.0000        0.0000   \n",
      "\n",
      "       L Pupil Diameter [mm]  ...  L GVEC Y  L GVEC Z  R GVEC X  R GVEC Y  \\\n",
      "0                        NaN  ...       NaN       NaN       NaN       NaN   \n",
      "1                     5.8893  ...    0.2397   -0.9705    0.1167    0.2425   \n",
      "2                     5.8894  ...    0.2314   -0.9724    0.1176    0.2368   \n",
      "3                     5.9037  ...    0.2251   -0.9742    0.1083    0.2268   \n",
      "4                     5.8922  ...    0.2257   -0.9739    0.1086    0.2366   \n",
      "...                      ...  ...       ...       ...       ...       ...   \n",
      "33973                 7.0576  ...    0.0000    0.0000    0.0000    0.0000   \n",
      "33974                 7.0576  ...    0.0000    0.0000    0.0890    0.2130   \n",
      "33975                 7.0576  ...    0.0000    0.0000    0.0000    0.0000   \n",
      "33976                 7.1001  ...    0.2394   -0.9708    0.1004    0.2107   \n",
      "33977                 7.1001  ...    0.0000    0.0000   -0.1082    0.3063   \n",
      "\n",
      "       R GVEC Z  Frame  Aux1  L Event Info  R Event Info  \\\n",
      "0           NaN    NaN   NaN           NaN           NaN   \n",
      "1       -0.9631   -1.0   NaN      Fixation      Fixation   \n",
      "2       -0.9644   -1.0   NaN      Fixation      Fixation   \n",
      "3       -0.9679   -1.0   NaN      Fixation      Fixation   \n",
      "4       -0.9655   -1.0   NaN      Fixation      Fixation   \n",
      "...         ...    ...   ...           ...           ...   \n",
      "33973    0.0000   -1.0   NaN             -       Saccade   \n",
      "33974   -0.9730   -1.0   NaN             -       Saccade   \n",
      "33975    0.0000   -1.0   NaN             -       Saccade   \n",
      "33976   -0.9724   -1.0   NaN       Saccade       Saccade   \n",
      "33977   -0.9457   -1.0   NaN       Saccade       Saccade   \n",
      "\n",
      "                      Stimulus  \n",
      "0                          NaN  \n",
      "1      Test Your Awareness.avi  \n",
      "2      Test Your Awareness.avi  \n",
      "3      Test Your Awareness.avi  \n",
      "4      Test Your Awareness.avi  \n",
      "...                        ...  \n",
      "33973  Test Your Awareness.avi  \n",
      "33974  Test Your Awareness.avi  \n",
      "33975  Test Your Awareness.avi  \n",
      "33976  Test Your Awareness.avi  \n",
      "33977  Test Your Awareness.avi  \n",
      "\n",
      "[33978 rows x 44 columns]\n"
     ]
    },
    {
     "name": "stderr",
     "output_type": "stream",
     "text": [
      "C:\\Users\\yassa\\AppData\\Local\\Temp\\ipykernel_17704\\2161930115.py:1: DtypeWarning: Columns (3) have mixed types. Specify dtype option on import or set low_memory=False.\n",
      "  df = pd.read_csv(\"assets/DataPOR.csv\", delimiter=\"\\t\")\n"
     ]
    }
   ],
   "source": [
    "df = pd.read_csv(\"assets/DataPOR.csv\", delimiter=\"\\t\")\n",
    "print(df)"
   ]
  },
  {
   "cell_type": "code",
   "execution_count": 5,
   "id": "95c86d42-e315-4b87-b00c-e4e8c690c823",
   "metadata": {},
   "outputs": [
    {
     "ename": "NameError",
     "evalue": "name 'df' is not defined",
     "output_type": "error",
     "traceback": [
      "\u001b[1;31m---------------------------------------------------------------------------\u001b[0m",
      "\u001b[1;31mNameError\u001b[0m                                 Traceback (most recent call last)",
      "Cell \u001b[1;32mIn[5], line 1\u001b[0m\n\u001b[1;32m----> 1\u001b[0m \u001b[38;5;28mprint\u001b[39m(\u001b[43mdf\u001b[49m)\n",
      "\u001b[1;31mNameError\u001b[0m: name 'df' is not defined"
     ]
    }
   ],
   "source": []
  }
 ],
 "metadata": {
  "kernelspec": {
   "display_name": "Python 3 (ipykernel)",
   "language": "python",
   "name": "python3"
  },
  "language_info": {
   "codemirror_mode": {
    "name": "ipython",
    "version": 3
   },
   "file_extension": ".py",
   "mimetype": "text/x-python",
   "name": "python",
   "nbconvert_exporter": "python",
   "pygments_lexer": "ipython3",
   "version": "3.12.0"
  }
 },
 "nbformat": 4,
 "nbformat_minor": 5
}
